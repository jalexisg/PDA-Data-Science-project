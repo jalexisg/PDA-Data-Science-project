{
 "cells": [
  {
   "cell_type": "markdown",
   "id": "6f3c09cb-1463-4305-beec-0a09bbf1e1a9",
   "metadata": {},
   "source": [
    "# Edinburgh College Project"
   ]
  },
  {
   "cell_type": "code",
   "execution_count": null,
   "id": "a5868890-b3ad-48bd-856a-1028f4a50a62",
   "metadata": {},
   "outputs": [],
   "source": []
  }
 ],
 "metadata": {
  "kernelspec": {
   "display_name": "Python 3 (ipykernel)",
   "language": "python",
   "name": "python3"
  },
  "language_info": {
   "codemirror_mode": {
    "name": "ipython",
    "version": 3
   },
   "file_extension": ".py",
   "mimetype": "text/x-python",
   "name": "python",
   "nbconvert_exporter": "python",
   "pygments_lexer": "ipython3",
   "version": "3.11.3"
  }
 },
 "nbformat": 4,
 "nbformat_minor": 5
}
