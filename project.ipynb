{
 "cells": [
  {
   "cell_type": "markdown",
   "id": "6f3c09cb-1463-4305-beec-0a09bbf1e1a9",
   "metadata": {},
   "source": [
    "# PDA Data Science Project"
   ]
  },
  {
   "cell_type": "markdown",
   "id": "e9a9e776-8f44-4e29-af47-22e752ff6dfe",
   "metadata": {},
   "source": [
    "## Predicting Employee Turnover with Machine Learning and Generating Visualizations"
   ]
  },
  {
   "cell_type": "markdown",
   "id": "4b6d1d96-e236-41bd-95fd-f514b1d92a8d",
   "metadata": {},
   "source": [
    "## 1. Introduction"
   ]
  },
  {
   "cell_type": "markdown",
   "id": "4ac6d2f3-8d10-406f-a81a-51f3bb939dc0",
   "metadata": {},
   "source": [
    "* Group Project Number: Group1\n",
    "* Team Members: Jaime Alexis GarciaGarcia, Jamie Renwick, Safoora Kappukkuth Pottammal\n",
    "\n",
    "Workplaces are always changing, and one big challenge for companies is figuring out who might leave their job soon. That's where our project comes in. We're using the power of computers and machine learning to predict if employees will leave within the next two years. We're working with data from 2012 to 2018, studying details from 4653 employees, like their education, when they joined, where they work, Payment Tier, their age, gender, work history, and most importantly, whether they stayed or left. \n",
    "\n",
    "Looking at data from different years gives us a special chance to see how things have changed over time. Knowing when people might leave is crucial for companies trying to manage their teams well. \n",
    "\n",
    "In our project, we're going deep into the data, using smart computer programs to find out which factors are linked to employees leaving. Our goal is to give companies a heads-up about potential turnover so they can take action to keep their team strong and successful. \n",
    "\n",
    "We will explore the details of predicting employee turnover, digging into the past to find insights that go beyond the years 2012 to 2018. \n"
   ]
  },
  {
   "cell_type": "markdown",
   "id": "b3fc67fe-0ddf-4c85-a282-33bc4dd75a53",
   "metadata": {},
   "source": [
    "## 2. Data collection"
   ]
  },
  {
   "cell_type": "markdown",
   "id": "153cefaa-afd7-419f-92c9-e2c532569ee7",
   "metadata": {},
   "source": [
    "## 3. Data Description"
   ]
  },
  {
   "cell_type": "markdown",
   "id": "cb79701c-13ce-44b9-9e74-fca42324c723",
   "metadata": {},
   "source": [
    "### Libraries"
   ]
  },
  {
   "cell_type": "code",
   "execution_count": 2,
   "id": "3ff8e01c-dc1a-4199-a9f6-1dffde0607b1",
   "metadata": {
    "tags": []
   },
   "outputs": [],
   "source": [
    "# installing libraries\n",
    "# pip install matplotlib"
   ]
  },
  {
   "cell_type": "code",
   "execution_count": 3,
   "id": "a5868890-b3ad-48bd-856a-1028f4a50a62",
   "metadata": {},
   "outputs": [],
   "source": [
    "# importing libraries\n",
    "import numpy as np\n",
    "import pandas as pd\n",
    "import matplotlib.pyplot as plt"
   ]
  },
  {
   "cell_type": "markdown",
   "id": "1d004191-baaa-42c9-8649-a0d9e4309db7",
   "metadata": {},
   "source": [
    "### Dataset file"
   ]
  },
  {
   "cell_type": "code",
   "execution_count": 4,
   "id": "fdf2d3ea-d25f-452b-bc1d-77ea2b2ee3f3",
   "metadata": {
    "tags": []
   },
   "outputs": [
    {
     "data": {
      "text/html": [
       "<div>\n",
       "<style scoped>\n",
       "    .dataframe tbody tr th:only-of-type {\n",
       "        vertical-align: middle;\n",
       "    }\n",
       "\n",
       "    .dataframe tbody tr th {\n",
       "        vertical-align: top;\n",
       "    }\n",
       "\n",
       "    .dataframe thead th {\n",
       "        text-align: right;\n",
       "    }\n",
       "</style>\n",
       "<table border=\"1\" class=\"dataframe\">\n",
       "  <thead>\n",
       "    <tr style=\"text-align: right;\">\n",
       "      <th></th>\n",
       "      <th>Education</th>\n",
       "      <th>JoiningYear</th>\n",
       "      <th>City</th>\n",
       "      <th>PaymentTier</th>\n",
       "      <th>Age</th>\n",
       "      <th>Gender</th>\n",
       "      <th>EverBenched</th>\n",
       "      <th>ExperienceInCurrentDomain</th>\n",
       "      <th>LeaveOrNot</th>\n",
       "    </tr>\n",
       "  </thead>\n",
       "  <tbody>\n",
       "    <tr>\n",
       "      <th>0</th>\n",
       "      <td>Bachelors</td>\n",
       "      <td>2017</td>\n",
       "      <td>Bangalore</td>\n",
       "      <td>3</td>\n",
       "      <td>34</td>\n",
       "      <td>Male</td>\n",
       "      <td>No</td>\n",
       "      <td>0</td>\n",
       "      <td>0</td>\n",
       "    </tr>\n",
       "    <tr>\n",
       "      <th>1</th>\n",
       "      <td>Bachelors</td>\n",
       "      <td>2013</td>\n",
       "      <td>Pune</td>\n",
       "      <td>1</td>\n",
       "      <td>28</td>\n",
       "      <td>Female</td>\n",
       "      <td>No</td>\n",
       "      <td>3</td>\n",
       "      <td>1</td>\n",
       "    </tr>\n",
       "    <tr>\n",
       "      <th>2</th>\n",
       "      <td>Bachelors</td>\n",
       "      <td>2014</td>\n",
       "      <td>New Delhi</td>\n",
       "      <td>3</td>\n",
       "      <td>38</td>\n",
       "      <td>Female</td>\n",
       "      <td>No</td>\n",
       "      <td>2</td>\n",
       "      <td>0</td>\n",
       "    </tr>\n",
       "    <tr>\n",
       "      <th>3</th>\n",
       "      <td>Masters</td>\n",
       "      <td>2016</td>\n",
       "      <td>Bangalore</td>\n",
       "      <td>3</td>\n",
       "      <td>27</td>\n",
       "      <td>Male</td>\n",
       "      <td>No</td>\n",
       "      <td>5</td>\n",
       "      <td>1</td>\n",
       "    </tr>\n",
       "    <tr>\n",
       "      <th>4</th>\n",
       "      <td>Masters</td>\n",
       "      <td>2017</td>\n",
       "      <td>Pune</td>\n",
       "      <td>3</td>\n",
       "      <td>24</td>\n",
       "      <td>Male</td>\n",
       "      <td>Yes</td>\n",
       "      <td>2</td>\n",
       "      <td>1</td>\n",
       "    </tr>\n",
       "    <tr>\n",
       "      <th>...</th>\n",
       "      <td>...</td>\n",
       "      <td>...</td>\n",
       "      <td>...</td>\n",
       "      <td>...</td>\n",
       "      <td>...</td>\n",
       "      <td>...</td>\n",
       "      <td>...</td>\n",
       "      <td>...</td>\n",
       "      <td>...</td>\n",
       "    </tr>\n",
       "    <tr>\n",
       "      <th>4648</th>\n",
       "      <td>Bachelors</td>\n",
       "      <td>2013</td>\n",
       "      <td>Bangalore</td>\n",
       "      <td>3</td>\n",
       "      <td>26</td>\n",
       "      <td>Female</td>\n",
       "      <td>No</td>\n",
       "      <td>4</td>\n",
       "      <td>0</td>\n",
       "    </tr>\n",
       "    <tr>\n",
       "      <th>4649</th>\n",
       "      <td>Masters</td>\n",
       "      <td>2013</td>\n",
       "      <td>Pune</td>\n",
       "      <td>2</td>\n",
       "      <td>37</td>\n",
       "      <td>Male</td>\n",
       "      <td>No</td>\n",
       "      <td>2</td>\n",
       "      <td>1</td>\n",
       "    </tr>\n",
       "    <tr>\n",
       "      <th>4650</th>\n",
       "      <td>Masters</td>\n",
       "      <td>2018</td>\n",
       "      <td>New Delhi</td>\n",
       "      <td>3</td>\n",
       "      <td>27</td>\n",
       "      <td>Male</td>\n",
       "      <td>No</td>\n",
       "      <td>5</td>\n",
       "      <td>1</td>\n",
       "    </tr>\n",
       "    <tr>\n",
       "      <th>4651</th>\n",
       "      <td>Bachelors</td>\n",
       "      <td>2012</td>\n",
       "      <td>Bangalore</td>\n",
       "      <td>3</td>\n",
       "      <td>30</td>\n",
       "      <td>Male</td>\n",
       "      <td>Yes</td>\n",
       "      <td>2</td>\n",
       "      <td>0</td>\n",
       "    </tr>\n",
       "    <tr>\n",
       "      <th>4652</th>\n",
       "      <td>Bachelors</td>\n",
       "      <td>2015</td>\n",
       "      <td>Bangalore</td>\n",
       "      <td>3</td>\n",
       "      <td>33</td>\n",
       "      <td>Male</td>\n",
       "      <td>Yes</td>\n",
       "      <td>4</td>\n",
       "      <td>0</td>\n",
       "    </tr>\n",
       "  </tbody>\n",
       "</table>\n",
       "<p>4653 rows × 9 columns</p>\n",
       "</div>"
      ],
      "text/plain": [
       "      Education  JoiningYear       City  PaymentTier  Age  Gender EverBenched  \\\n",
       "0     Bachelors         2017  Bangalore            3   34    Male          No   \n",
       "1     Bachelors         2013       Pune            1   28  Female          No   \n",
       "2     Bachelors         2014  New Delhi            3   38  Female          No   \n",
       "3       Masters         2016  Bangalore            3   27    Male          No   \n",
       "4       Masters         2017       Pune            3   24    Male         Yes   \n",
       "...         ...          ...        ...          ...  ...     ...         ...   \n",
       "4648  Bachelors         2013  Bangalore            3   26  Female          No   \n",
       "4649    Masters         2013       Pune            2   37    Male          No   \n",
       "4650    Masters         2018  New Delhi            3   27    Male          No   \n",
       "4651  Bachelors         2012  Bangalore            3   30    Male         Yes   \n",
       "4652  Bachelors         2015  Bangalore            3   33    Male         Yes   \n",
       "\n",
       "      ExperienceInCurrentDomain  LeaveOrNot  \n",
       "0                             0           0  \n",
       "1                             3           1  \n",
       "2                             2           0  \n",
       "3                             5           1  \n",
       "4                             2           1  \n",
       "...                         ...         ...  \n",
       "4648                          4           0  \n",
       "4649                          2           1  \n",
       "4650                          5           1  \n",
       "4651                          2           0  \n",
       "4652                          4           0  \n",
       "\n",
       "[4653 rows x 9 columns]"
      ]
     },
     "execution_count": 4,
     "metadata": {},
     "output_type": "execute_result"
    }
   ],
   "source": [
    "df = pd.read_csv('Employee.csv')\n",
    "df"
   ]
  },
  {
   "cell_type": "markdown",
   "id": "25f72dbc-0188-4f99-be90-53b5ea278dba",
   "metadata": {},
   "source": [
    "## 4. Exploratory Data Analysis (EDA)"
   ]
  },
  {
   "cell_type": "code",
   "execution_count": 5,
   "id": "b46ad1a9-694e-4ab4-8166-bbbd8946f2eb",
   "metadata": {
    "tags": []
   },
   "outputs": [
    {
     "name": "stdout",
     "output_type": "stream",
     "text": [
      "<class 'pandas.core.frame.DataFrame'>\n",
      "RangeIndex: 4653 entries, 0 to 4652\n",
      "Data columns (total 9 columns):\n",
      " #   Column                     Non-Null Count  Dtype \n",
      "---  ------                     --------------  ----- \n",
      " 0   Education                  4653 non-null   object\n",
      " 1   JoiningYear                4653 non-null   int64 \n",
      " 2   City                       4653 non-null   object\n",
      " 3   PaymentTier                4653 non-null   int64 \n",
      " 4   Age                        4653 non-null   int64 \n",
      " 5   Gender                     4653 non-null   object\n",
      " 6   EverBenched                4653 non-null   object\n",
      " 7   ExperienceInCurrentDomain  4653 non-null   int64 \n",
      " 8   LeaveOrNot                 4653 non-null   int64 \n",
      "dtypes: int64(5), object(4)\n",
      "memory usage: 327.3+ KB\n"
     ]
    }
   ],
   "source": [
    "df.info()"
   ]
  },
  {
   "cell_type": "markdown",
   "id": "7b9785e7-1a42-4762-bf00-6ff0b65cabf7",
   "metadata": {},
   "source": [
    "### Null Values Analysis"
   ]
  },
  {
   "cell_type": "code",
   "execution_count": 6,
   "id": "cad649bd-e8d2-49ca-9775-55ade1602543",
   "metadata": {
    "tags": []
   },
   "outputs": [
    {
     "data": {
      "text/plain": [
       "Education                    0\n",
       "JoiningYear                  0\n",
       "City                         0\n",
       "PaymentTier                  0\n",
       "Age                          0\n",
       "Gender                       0\n",
       "EverBenched                  0\n",
       "ExperienceInCurrentDomain    0\n",
       "LeaveOrNot                   0\n",
       "dtype: int64"
      ]
     },
     "execution_count": 6,
     "metadata": {},
     "output_type": "execute_result"
    }
   ],
   "source": [
    "df.isna().sum().sort_values(ascending = False)"
   ]
  },
  {
   "cell_type": "markdown",
   "id": "66cdf8f0-6008-49b2-9d42-bd437235ba11",
   "metadata": {},
   "source": [
    "### EDA Categoric Variables"
   ]
  },
  {
   "cell_type": "code",
   "execution_count": 7,
   "id": "ae52d0aa-84b5-4460-aadd-7b20806274ac",
   "metadata": {
    "tags": []
   },
   "outputs": [],
   "source": [
    "def categoric_eda_graphs(cat):\n",
    "\n",
    "    # rows needed\n",
    "    from math import ceil\n",
    "    filas = ceil(cat.shape[1] / 2)\n",
    "\n",
    "    # Graph design\n",
    "    f, ax = plt.subplots(nrows = filas, ncols = 2, figsize = (16, filas * 6))\n",
    "\n",
    "    # flat graph\n",
    "    ax = ax.flat\n",
    "\n",
    "    # adding graphs for each variable\n",
    "    for each, variable in enumerate(cat):\n",
    "        cat[variable].value_counts().plot.barh(ax = ax[each])\n",
    "        ax[each].set_title(variable, fontsize = 12, fontweight = \"bold\")\n",
    "        ax[each].tick_params(labelsize = 12)"
   ]
  },
  {
   "cell_type": "code",
   "execution_count": 8,
   "id": "b4e8a755-6ef1-40e0-87ab-2b522af9c773",
   "metadata": {
    "tags": []
   },
   "outputs": [
    {
     "data": {
      "image/png": "[encoded data removed]",
      "text/plain": [
       "<Figure size 1600x1200 with 4 Axes>"
      ]
     },
     "metadata": {},
     "output_type": "display_data"
    }
   ],
   "source": [
    "categoric_eda_graphs(df.select_dtypes('O'))"
   ]
  },
  {
   "cell_type": "code",
   "execution_count": 9,
   "id": "ee627096-3d26-4ca9-acee-adee7e5613e0",
   "metadata": {
    "tags": []
   },
   "outputs": [],
   "source": [
    "def estadistics_cont(num):\n",
    "    # describe\n",
    "    estadistics = num.describe().T\n",
    "    # Adding median\n",
    "    estadistics['median'] = num.median()\n",
    "    # We rearrange the columns so that the median is next to the mean\n",
    "    estadistics = estadistics.iloc[:,[0,1,8,2,3,4,5,6,7]]\n",
    "    # return\n",
    "    return(estadistics)"
   ]
  },
  {
   "cell_type": "code",
   "execution_count": 10,
   "id": "0aac5ff0-7f49-42f6-85cb-99b201d512f6",
   "metadata": {
    "tags": []
   },
   "outputs": [
    {
     "data": {
      "text/html": [
       "<div>\n",
       "<style scoped>\n",
       "    .dataframe tbody tr th:only-of-type {\n",
       "        vertical-align: middle;\n",
       "    }\n",
       "\n",
       "    .dataframe tbody tr th {\n",
       "        vertical-align: top;\n",
       "    }\n",
       "\n",
       "    .dataframe thead th {\n",
       "        text-align: right;\n",
       "    }\n",
       "</style>\n",
       "<table border=\"1\" class=\"dataframe\">\n",
       "  <thead>\n",
       "    <tr style=\"text-align: right;\">\n",
       "      <th></th>\n",
       "      <th>count</th>\n",
       "      <th>mean</th>\n",
       "      <th>median</th>\n",
       "      <th>std</th>\n",
       "      <th>min</th>\n",
       "      <th>25%</th>\n",
       "      <th>50%</th>\n",
       "      <th>75%</th>\n",
       "      <th>max</th>\n",
       "    </tr>\n",
       "  </thead>\n",
       "  <tbody>\n",
       "    <tr>\n",
       "      <th>JoiningYear</th>\n",
       "      <td>4653.0</td>\n",
       "      <td>2015.062970</td>\n",
       "      <td>2015.0</td>\n",
       "      <td>1.863377</td>\n",
       "      <td>2012.0</td>\n",
       "      <td>2013.0</td>\n",
       "      <td>2015.0</td>\n",
       "      <td>2017.0</td>\n",
       "      <td>2018.0</td>\n",
       "    </tr>\n",
       "    <tr>\n",
       "      <th>PaymentTier</th>\n",
       "      <td>4653.0</td>\n",
       "      <td>2.698259</td>\n",
       "      <td>3.0</td>\n",
       "      <td>0.561435</td>\n",
       "      <td>1.0</td>\n",
       "      <td>3.0</td>\n",
       "      <td>3.0</td>\n",
       "      <td>3.0</td>\n",
       "      <td>3.0</td>\n",
       "    </tr>\n",
       "    <tr>\n",
       "      <th>Age</th>\n",
       "      <td>4653.0</td>\n",
       "      <td>29.393295</td>\n",
       "      <td>28.0</td>\n",
       "      <td>4.826087</td>\n",
       "      <td>22.0</td>\n",
       "      <td>26.0</td>\n",
       "      <td>28.0</td>\n",
       "      <td>32.0</td>\n",
       "      <td>41.0</td>\n",
       "    </tr>\n",
       "    <tr>\n",
       "      <th>ExperienceInCurrentDomain</th>\n",
       "      <td>4653.0</td>\n",
       "      <td>2.905652</td>\n",
       "      <td>3.0</td>\n",
       "      <td>1.558240</td>\n",
       "      <td>0.0</td>\n",
       "      <td>2.0</td>\n",
       "      <td>3.0</td>\n",
       "      <td>4.0</td>\n",
       "      <td>7.0</td>\n",
       "    </tr>\n",
       "    <tr>\n",
       "      <th>LeaveOrNot</th>\n",
       "      <td>4653.0</td>\n",
       "      <td>0.343864</td>\n",
       "      <td>0.0</td>\n",
       "      <td>0.475047</td>\n",
       "      <td>0.0</td>\n",
       "      <td>0.0</td>\n",
       "      <td>0.0</td>\n",
       "      <td>1.0</td>\n",
       "      <td>1.0</td>\n",
       "    </tr>\n",
       "  </tbody>\n",
       "</table>\n",
       "</div>"
      ],
      "text/plain": [
       "                            count         mean  median       std     min  \\\n",
       "JoiningYear                4653.0  2015.062970  2015.0  1.863377  2012.0   \n",
       "PaymentTier                4653.0     2.698259     3.0  0.561435     1.0   \n",
       "Age                        4653.0    29.393295    28.0  4.826087    22.0   \n",
       "ExperienceInCurrentDomain  4653.0     2.905652     3.0  1.558240     0.0   \n",
       "LeaveOrNot                 4653.0     0.343864     0.0  0.475047     0.0   \n",
       "\n",
       "                              25%     50%     75%     max  \n",
       "JoiningYear                2013.0  2015.0  2017.0  2018.0  \n",
       "PaymentTier                   3.0     3.0     3.0     3.0  \n",
       "Age                          26.0    28.0    32.0    41.0  \n",
       "ExperienceInCurrentDomain     2.0     3.0     4.0     7.0  \n",
       "LeaveOrNot                    0.0     0.0     1.0     1.0  "
      ]
     },
     "execution_count": 10,
     "metadata": {},
     "output_type": "execute_result"
    }
   ],
   "source": [
    "estadistics_cont(df.select_dtypes('number'))"
   ]
  },
  {
   "cell_type": "markdown",
   "id": "957688da-7019-4ecb-9c8a-d2e14c52c77b",
   "metadata": {},
   "source": [
    "### Turnover rate"
   ]
  },
  {
   "cell_type": "code",
   "execution_count": 18,
   "id": "7392deb7-99d7-4c5c-b9ea-f3bff96d62f9",
   "metadata": {
    "tags": []
   },
   "outputs": [
    {
     "data": {
      "text/plain": [
       "NO     65.613583\n",
       "YES    34.386417\n",
       "Name: LeaveOrNot_Label, dtype: float64"
      ]
     },
     "execution_count": 18,
     "metadata": {},
     "output_type": "execute_result"
    }
   ],
   "source": [
    "df['LeaveOrNot_Label'] = df['LeaveOrNot'].map({0: 'NO', 1: 'YES'})\n",
    "turnover_rate = df['LeaveOrNot_Label'].value_counts(normalize=True) * 100\n",
    "\n",
    "turnover_rate"
   ]
  },
  {
   "cell_type": "markdown",
   "id": "2bda10d1-a2ed-4c1c-944d-5a03bac3d24d",
   "metadata": {},
   "source": [
    "### Is there a typical profile of an employee who leaves the company?"
   ]
  },
  {
   "cell_type": "code",
   "execution_count": 19,
   "id": "d9a58c58-7df5-4c28-b646-41143be84e38",
   "metadata": {
    "tags": []
   },
   "outputs": [
    {
     "data": {
      "image/png": "[encoded data removed]",
      "text/plain": [
       "<Figure size 640x480 with 1 Axes>"
      ]
     },
     "metadata": {},
     "output_type": "display_data"
    }
   ],
   "source": [
    "# Analysis by Education\n",
    "temp = df.groupby('Education').LeaveOrNot.mean().sort_values(ascending = False) * 100\n",
    "temp.plot.bar();"
   ]
  },
  {
   "cell_type": "code",
   "execution_count": 20,
   "id": "c2cc235b-3cb6-485f-a76f-62d6b5f1d374",
   "metadata": {
    "tags": []
   },
   "outputs": [
    {
     "data": {
      "image/png": "[encoded data removed]",
      "text/plain": [
       "<Figure size 640x480 with 1 Axes>"
      ]
     },
     "metadata": {},
     "output_type": "display_data"
    }
   ],
   "source": [
    "# Analysis by PaymentTier\n",
    "temp = df.groupby('PaymentTier').LeaveOrNot.mean().sort_values(ascending = False) * 100\n",
    "temp.plot.bar();"
   ]
  },
  {
   "cell_type": "code",
   "execution_count": 21,
   "id": "e23b6d92-900f-446c-8bfb-7cbfafc660ce",
   "metadata": {
    "tags": []
   },
   "outputs": [
    {
     "data": {
      "image/png": "[encoded data removed]",
      "text/plain": [
       "<Figure size 640x480 with 1 Axes>"
      ]
     },
     "metadata": {},
     "output_type": "display_data"
    }
   ],
   "source": [
    "# Analysis by Age\n",
    "temp = df.groupby('Age').LeaveOrNot.mean().sort_values(ascending = False) * 100\n",
    "temp.plot.bar();"
   ]
  },
  {
   "cell_type": "code",
   "execution_count": 22,
   "id": "c1bf7ccb-7c5a-451a-9943-0c7569f70a76",
   "metadata": {
    "tags": []
   },
   "outputs": [
    {
     "data": {
      "image/png": "[encoded data removed]",
      "text/plain": [
       "<Figure size 640x480 with 1 Axes>"
      ]
     },
     "metadata": {},
     "output_type": "display_data"
    }
   ],
   "source": [
    "# Analysis by Gender\n",
    "temp = df.groupby('Gender').LeaveOrNot.mean().sort_values(ascending = False) * 100\n",
    "temp.plot.bar();"
   ]
  },
  {
   "cell_type": "code",
   "execution_count": 23,
   "id": "e2bae96e-da73-4194-bc2d-447fb2342ef0",
   "metadata": {
    "tags": []
   },
   "outputs": [
    {
     "data": {
      "image/png": "[encoded data removed]",
      "text/plain": [
       "<Figure size 640x480 with 1 Axes>"
      ]
     },
     "metadata": {},
     "output_type": "display_data"
    }
   ],
   "source": [
    "# Analysis by JoiningYear\n",
    "temp = df.groupby('JoiningYear').LeaveOrNot.mean().sort_values(ascending = False) * 100\n",
    "temp.plot.bar();"
   ]
  },
  {
   "cell_type": "code",
   "execution_count": 25,
   "id": "589646c5-94f9-4129-a8c6-fdadf98713b6",
   "metadata": {
    "tags": []
   },
   "outputs": [
    {
     "data": {
      "image/png": "[encoded data removed]",
      "text/plain": [
       "<Figure size 640x480 with 1 Axes>"
      ]
     },
     "metadata": {},
     "output_type": "display_data"
    }
   ],
   "source": [
    "# Analysis by ExperienceInCurrentDomain\n",
    "temp = df.groupby('ExperienceInCurrentDomain').LeaveOrNot.mean().sort_values(ascending = False) * 100\n",
    "temp.plot.bar();"
   ]
  },
  {
   "cell_type": "markdown",
   "id": "5bf2d334-b1dc-423e-817c-4998e37fd99f",
   "metadata": {},
   "source": [
    "## 6. Model Selection"
   ]
  }
 ],
 "metadata": {
  "kernelspec": {
   "display_name": "Python 3 (ipykernel)",
   "language": "python",
   "name": "python3"
  },
  "language_info": {
   "codemirror_mode": {
    "name": "ipython",
    "version": 3
   },
   "file_extension": ".py",
   "mimetype": "text/x-python",
   "name": "python",
   "nbconvert_exporter": "python",
   "pygments_lexer": "ipython3",
   "version": "3.8.16"
  }
 },
 "nbformat": 4,
 "nbformat_minor": 5
}
